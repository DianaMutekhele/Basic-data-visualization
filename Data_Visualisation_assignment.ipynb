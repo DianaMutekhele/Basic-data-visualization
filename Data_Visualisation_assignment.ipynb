{
  "nbformat": 4,
  "nbformat_minor": 0,
  "metadata": {
    "colab": {
      "name": "Data Visualisation assignment.ipynb",
      "provenance": [],
      "collapsed_sections": [],
      "authorship_tag": "ABX9TyM8VLClD6rqzAmm52+fHpRP",
      "include_colab_link": true
    },
    "kernelspec": {
      "name": "python3",
      "display_name": "Python 3"
    },
    "language_info": {
      "name": "python"
    }
  },
  "cells": [
    {
      "cell_type": "markdown",
      "metadata": {
        "id": "view-in-github",
        "colab_type": "text"
      },
      "source": [
        "<a href=\"https://colab.research.google.com/github/DianaMutekhele/Basic-data-visualization/blob/main/Data_Visualisation_assignment.ipynb\" target=\"_parent\"><img src=\"https://colab.research.google.com/assets/colab-badge.svg\" alt=\"Open In Colab\"/></a>"
      ]
    },
    {
      "cell_type": "markdown",
      "metadata": {
        "id": "8VfYfk4l7kTp"
      },
      "source": [
        "#DIANA MUTEKHELE"
      ]
    },
    {
      "cell_type": "markdown",
      "metadata": {
        "id": "Kk2JOuTh8Fpe"
      },
      "source": [
        "#Use the winequality-red dataset to create TWO of the following visualizations :\n",
        "\n",
        "#1. A histogram of one of the continuous variable in the dataset"
      ]
    },
    {
      "cell_type": "code",
      "metadata": {
        "id": "AL5xFTPg7sfj",
        "colab": {
          "base_uri": "https://localhost:8080/"
        },
        "outputId": "4870994c-5ad8-431f-b3a1-e68e381e0b0a"
      },
      "source": [
        "!pip install plotly"
      ],
      "execution_count": null,
      "outputs": [
        {
          "output_type": "stream",
          "name": "stdout",
          "text": [
            "Requirement already satisfied: plotly in /usr/local/lib/python3.7/dist-packages (4.4.1)\n",
            "Requirement already satisfied: retrying>=1.3.3 in /usr/local/lib/python3.7/dist-packages (from plotly) (1.3.3)\n",
            "Requirement already satisfied: six in /usr/local/lib/python3.7/dist-packages (from plotly) (1.15.0)\n"
          ]
        }
      ]
    },
    {
      "cell_type": "code",
      "metadata": {
        "id": "sPYNXrbfa-NR"
      },
      "source": [
        "import pandas as pd\n",
        "import numpy as np \n",
        "import matplotlib.pyplot as plt\n",
        "import seaborn as sns\n",
        "import os\n",
        "import plotly.express as px\n",
        "\n",
        "\n",
        "# show all df columns and diplay plots in line\n",
        "pd.set_option('display.max_columns', None)\n",
        "%matplotlib inline"
      ],
      "execution_count": null,
      "outputs": []
    },
    {
      "cell_type": "markdown",
      "metadata": {
        "id": "sB6jDkQMbJcM"
      },
      "source": [
        "#Import the Datasets"
      ]
    },
    {
      "cell_type": "code",
      "metadata": {
        "colab": {
          "base_uri": "https://localhost:8080/",
          "height": 218
        },
        "id": "cESBVeZabFRp",
        "outputId": "8a36eb89-978b-4f1b-990e-16333b7d8eab"
      },
      "source": [
        "#Import winequality-red dataset\n",
        "winequality_red = pd.read_csv(\"winequality-red.csv\")\n",
        "winequality_red.head()"
      ],
      "execution_count": null,
      "outputs": [
        {
          "output_type": "execute_result",
          "data": {
            "text/html": [
              "<div>\n",
              "<style scoped>\n",
              "    .dataframe tbody tr th:only-of-type {\n",
              "        vertical-align: middle;\n",
              "    }\n",
              "\n",
              "    .dataframe tbody tr th {\n",
              "        vertical-align: top;\n",
              "    }\n",
              "\n",
              "    .dataframe thead th {\n",
              "        text-align: right;\n",
              "    }\n",
              "</style>\n",
              "<table border=\"1\" class=\"dataframe\">\n",
              "  <thead>\n",
              "    <tr style=\"text-align: right;\">\n",
              "      <th></th>\n",
              "      <th>fixed acidity</th>\n",
              "      <th>volatile acidity</th>\n",
              "      <th>citric acid</th>\n",
              "      <th>residual sugar</th>\n",
              "      <th>chlorides</th>\n",
              "      <th>free sulfur dioxide</th>\n",
              "      <th>total sulfur dioxide</th>\n",
              "      <th>density</th>\n",
              "      <th>pH</th>\n",
              "      <th>sulphates</th>\n",
              "      <th>alcohol</th>\n",
              "      <th>quality</th>\n",
              "    </tr>\n",
              "  </thead>\n",
              "  <tbody>\n",
              "    <tr>\n",
              "      <th>0</th>\n",
              "      <td>7.4</td>\n",
              "      <td>0.70</td>\n",
              "      <td>0.00</td>\n",
              "      <td>1.9</td>\n",
              "      <td>0.076</td>\n",
              "      <td>11.0</td>\n",
              "      <td>34.0</td>\n",
              "      <td>0.9978</td>\n",
              "      <td>3.51</td>\n",
              "      <td>0.56</td>\n",
              "      <td>9.4</td>\n",
              "      <td>5</td>\n",
              "    </tr>\n",
              "    <tr>\n",
              "      <th>1</th>\n",
              "      <td>7.8</td>\n",
              "      <td>0.88</td>\n",
              "      <td>0.00</td>\n",
              "      <td>2.6</td>\n",
              "      <td>0.098</td>\n",
              "      <td>25.0</td>\n",
              "      <td>67.0</td>\n",
              "      <td>0.9968</td>\n",
              "      <td>3.20</td>\n",
              "      <td>0.68</td>\n",
              "      <td>9.8</td>\n",
              "      <td>5</td>\n",
              "    </tr>\n",
              "    <tr>\n",
              "      <th>2</th>\n",
              "      <td>7.8</td>\n",
              "      <td>0.76</td>\n",
              "      <td>0.04</td>\n",
              "      <td>2.3</td>\n",
              "      <td>0.092</td>\n",
              "      <td>15.0</td>\n",
              "      <td>54.0</td>\n",
              "      <td>0.9970</td>\n",
              "      <td>3.26</td>\n",
              "      <td>0.65</td>\n",
              "      <td>9.8</td>\n",
              "      <td>5</td>\n",
              "    </tr>\n",
              "    <tr>\n",
              "      <th>3</th>\n",
              "      <td>11.2</td>\n",
              "      <td>0.28</td>\n",
              "      <td>0.56</td>\n",
              "      <td>1.9</td>\n",
              "      <td>0.075</td>\n",
              "      <td>17.0</td>\n",
              "      <td>60.0</td>\n",
              "      <td>0.9980</td>\n",
              "      <td>3.16</td>\n",
              "      <td>0.58</td>\n",
              "      <td>9.8</td>\n",
              "      <td>6</td>\n",
              "    </tr>\n",
              "    <tr>\n",
              "      <th>4</th>\n",
              "      <td>7.4</td>\n",
              "      <td>0.70</td>\n",
              "      <td>0.00</td>\n",
              "      <td>1.9</td>\n",
              "      <td>0.076</td>\n",
              "      <td>11.0</td>\n",
              "      <td>34.0</td>\n",
              "      <td>0.9978</td>\n",
              "      <td>3.51</td>\n",
              "      <td>0.56</td>\n",
              "      <td>9.4</td>\n",
              "      <td>5</td>\n",
              "    </tr>\n",
              "  </tbody>\n",
              "</table>\n",
              "</div>"
            ],
            "text/plain": [
              "   fixed acidity  volatile acidity  citric acid  residual sugar  chlorides  \\\n",
              "0            7.4              0.70         0.00             1.9      0.076   \n",
              "1            7.8              0.88         0.00             2.6      0.098   \n",
              "2            7.8              0.76         0.04             2.3      0.092   \n",
              "3           11.2              0.28         0.56             1.9      0.075   \n",
              "4            7.4              0.70         0.00             1.9      0.076   \n",
              "\n",
              "   free sulfur dioxide  total sulfur dioxide  density    pH  sulphates  \\\n",
              "0                 11.0                  34.0   0.9978  3.51       0.56   \n",
              "1                 25.0                  67.0   0.9968  3.20       0.68   \n",
              "2                 15.0                  54.0   0.9970  3.26       0.65   \n",
              "3                 17.0                  60.0   0.9980  3.16       0.58   \n",
              "4                 11.0                  34.0   0.9978  3.51       0.56   \n",
              "\n",
              "   alcohol  quality  \n",
              "0      9.4        5  \n",
              "1      9.8        5  \n",
              "2      9.8        5  \n",
              "3      9.8        6  \n",
              "4      9.4        5  "
            ]
          },
          "metadata": {},
          "execution_count": 3
        }
      ]
    },
    {
      "cell_type": "code",
      "metadata": {
        "colab": {
          "base_uri": "https://localhost:8080/"
        },
        "id": "cNS3hgDAdFkU",
        "outputId": "0b22a648-5c8f-44e2-c8b2-c5dbbbdbeaa9"
      },
      "source": [
        "winequality_red.columns"
      ],
      "execution_count": null,
      "outputs": [
        {
          "output_type": "execute_result",
          "data": {
            "text/plain": [
              "Index(['fixed acidity', 'volatile acidity', 'citric acid', 'residual sugar',\n",
              "       'chlorides', 'free sulfur dioxide', 'total sulfur dioxide', 'density',\n",
              "       'pH', 'sulphates', 'alcohol', 'quality'],\n",
              "      dtype='object')"
            ]
          },
          "metadata": {},
          "execution_count": 4
        }
      ]
    },
    {
      "cell_type": "code",
      "metadata": {
        "colab": {
          "base_uri": "https://localhost:8080/",
          "height": 222
        },
        "id": "H1CXe6eEeKHW",
        "outputId": "a18e37bf-5458-46e0-db1e-687bcaccc5a1"
      },
      "source": [
        "#Rename the columns\n",
        "winequality_red.rename(columns={'fixed acidity':'fixed_acidity', 'volatile acidity':'volatile_acidity', 'citric acid':'citric_acid', 'residual sugar':'residual_sugar',\n",
        "       'free sulfur dioxide':'free_sulfur_dioxide', 'total sulfur dioxide':'total_sulfur_dioxide'},inplace=True)\n",
        "\n",
        "\n",
        "winequality_red.head()"
      ],
      "execution_count": null,
      "outputs": [
        {
          "output_type": "execute_result",
          "data": {
            "text/html": [
              "<div>\n",
              "<style scoped>\n",
              "    .dataframe tbody tr th:only-of-type {\n",
              "        vertical-align: middle;\n",
              "    }\n",
              "\n",
              "    .dataframe tbody tr th {\n",
              "        vertical-align: top;\n",
              "    }\n",
              "\n",
              "    .dataframe thead th {\n",
              "        text-align: right;\n",
              "    }\n",
              "</style>\n",
              "<table border=\"1\" class=\"dataframe\">\n",
              "  <thead>\n",
              "    <tr style=\"text-align: right;\">\n",
              "      <th></th>\n",
              "      <th>fixed_acidity</th>\n",
              "      <th>volatile_acidity</th>\n",
              "      <th>citric_acid</th>\n",
              "      <th>residual_sugar</th>\n",
              "      <th>chlorides</th>\n",
              "      <th>free_sulfur_dioxide</th>\n",
              "      <th>total_sulfur_dioxide</th>\n",
              "      <th>density</th>\n",
              "      <th>pH</th>\n",
              "      <th>sulphates</th>\n",
              "      <th>alcohol</th>\n",
              "      <th>quality</th>\n",
              "    </tr>\n",
              "  </thead>\n",
              "  <tbody>\n",
              "    <tr>\n",
              "      <th>0</th>\n",
              "      <td>7.4</td>\n",
              "      <td>0.70</td>\n",
              "      <td>0.00</td>\n",
              "      <td>1.9</td>\n",
              "      <td>0.076</td>\n",
              "      <td>11.0</td>\n",
              "      <td>34.0</td>\n",
              "      <td>0.9978</td>\n",
              "      <td>3.51</td>\n",
              "      <td>0.56</td>\n",
              "      <td>9.4</td>\n",
              "      <td>5</td>\n",
              "    </tr>\n",
              "    <tr>\n",
              "      <th>1</th>\n",
              "      <td>7.8</td>\n",
              "      <td>0.88</td>\n",
              "      <td>0.00</td>\n",
              "      <td>2.6</td>\n",
              "      <td>0.098</td>\n",
              "      <td>25.0</td>\n",
              "      <td>67.0</td>\n",
              "      <td>0.9968</td>\n",
              "      <td>3.20</td>\n",
              "      <td>0.68</td>\n",
              "      <td>9.8</td>\n",
              "      <td>5</td>\n",
              "    </tr>\n",
              "    <tr>\n",
              "      <th>2</th>\n",
              "      <td>7.8</td>\n",
              "      <td>0.76</td>\n",
              "      <td>0.04</td>\n",
              "      <td>2.3</td>\n",
              "      <td>0.092</td>\n",
              "      <td>15.0</td>\n",
              "      <td>54.0</td>\n",
              "      <td>0.9970</td>\n",
              "      <td>3.26</td>\n",
              "      <td>0.65</td>\n",
              "      <td>9.8</td>\n",
              "      <td>5</td>\n",
              "    </tr>\n",
              "    <tr>\n",
              "      <th>3</th>\n",
              "      <td>11.2</td>\n",
              "      <td>0.28</td>\n",
              "      <td>0.56</td>\n",
              "      <td>1.9</td>\n",
              "      <td>0.075</td>\n",
              "      <td>17.0</td>\n",
              "      <td>60.0</td>\n",
              "      <td>0.9980</td>\n",
              "      <td>3.16</td>\n",
              "      <td>0.58</td>\n",
              "      <td>9.8</td>\n",
              "      <td>6</td>\n",
              "    </tr>\n",
              "    <tr>\n",
              "      <th>4</th>\n",
              "      <td>7.4</td>\n",
              "      <td>0.70</td>\n",
              "      <td>0.00</td>\n",
              "      <td>1.9</td>\n",
              "      <td>0.076</td>\n",
              "      <td>11.0</td>\n",
              "      <td>34.0</td>\n",
              "      <td>0.9978</td>\n",
              "      <td>3.51</td>\n",
              "      <td>0.56</td>\n",
              "      <td>9.4</td>\n",
              "      <td>5</td>\n",
              "    </tr>\n",
              "  </tbody>\n",
              "</table>\n",
              "</div>"
            ],
            "text/plain": [
              "   fixed_acidity  volatile_acidity  citric_acid  residual_sugar  chlorides  \\\n",
              "0            7.4              0.70         0.00             1.9      0.076   \n",
              "1            7.8              0.88         0.00             2.6      0.098   \n",
              "2            7.8              0.76         0.04             2.3      0.092   \n",
              "3           11.2              0.28         0.56             1.9      0.075   \n",
              "4            7.4              0.70         0.00             1.9      0.076   \n",
              "\n",
              "   free_sulfur_dioxide  total_sulfur_dioxide  density    pH  sulphates  \\\n",
              "0                 11.0                  34.0   0.9978  3.51       0.56   \n",
              "1                 25.0                  67.0   0.9968  3.20       0.68   \n",
              "2                 15.0                  54.0   0.9970  3.26       0.65   \n",
              "3                 17.0                  60.0   0.9980  3.16       0.58   \n",
              "4                 11.0                  34.0   0.9978  3.51       0.56   \n",
              "\n",
              "   alcohol  quality  \n",
              "0      9.4        5  \n",
              "1      9.8        5  \n",
              "2      9.8        5  \n",
              "3      9.8        6  \n",
              "4      9.4        5  "
            ]
          },
          "metadata": {},
          "execution_count": 5
        }
      ]
    },
    {
      "cell_type": "markdown",
      "metadata": {
        "id": "QVN4Ns8NiWtF"
      },
      "source": [
        "### Histogram\n",
        "We will use *hist* method."
      ]
    },
    {
      "cell_type": "code",
      "metadata": {
        "colab": {
          "base_uri": "https://localhost:8080/",
          "height": 313
        },
        "id": "SV4DtNK0g_F9",
        "outputId": "bd76ca1e-dd9b-4d70-ddfe-a8a27eddf118"
      },
      "source": [
        "# create figure and axis\n",
        "fig, ax = plt.subplots()\n",
        "# plot histogram\n",
        "ax.hist(winequality_red['volatile_acidity'])\n",
        "# set title and labels\n",
        "ax.set_title('Wine Quality Scores')\n",
        "ax.set_xlabel('volatile_acidity')\n",
        "ax.set_ylabel('Frequency')"
      ],
      "execution_count": null,
      "outputs": [
        {
          "output_type": "execute_result",
          "data": {
            "text/plain": [
              "Text(0, 0.5, 'Frequency')"
            ]
          },
          "metadata": {},
          "execution_count": 6
        },
        {
          "output_type": "display_data",
          "data": {
            "image/png": "[encoded data removed]",
            "text/plain": [
              "<Figure size 432x288 with 1 Axes>"
            ]
          },
          "metadata": {
            "needs_background": "light"
          }
        }
      ]
    },
    {
      "cell_type": "markdown",
      "metadata": {
        "id": "0oPqbHqFjcTI"
      },
      "source": [
        "2. A scatter plot of two of the continuous variables in the dataset"
      ]
    },
    {
      "cell_type": "markdown",
      "metadata": {
        "id": "n6RNfR73iFTL"
      },
      "source": [
        "#Plotly\n",
        "\n",
        "Scatter plots\n",
        "\n",
        "We will use the scatter() method to draw the scatter graph\n",
        "\n"
      ]
    },
    {
      "cell_type": "code",
      "metadata": {
        "colab": {
          "base_uri": "https://localhost:8080/",
          "height": 542
        },
        "id": "Elyd5neRiDwj",
        "outputId": "71be6b14-1adf-48b7-f246-b327b0ba92fb"
      },
      "source": [
        "import plotly.express as px\n",
        "fig = px.scatter(winequality_red, x=\"volatile_acidity\", y=\"fixed_acidity\")\n",
        "fig.show()"
      ],
      "execution_count": null,
      "outputs": [
        {
          "output_type": "display_data",
          "data": {
            "text/html": [
              "<html>\n",
              "<head><meta charset=\"utf-8\" /></head>\n",
              "<body>\n",
              "    <div>\n",
              "            <script src=\"https://cdnjs.cloudflare.com/ajax/libs/mathjax/2.7.5/MathJax.js?config=TeX-AMS-MML_SVG\"></script><script type=\"text/javascript\">if (window.MathJax) {MathJax.Hub.Config({SVG: {font: \"STIX-Web\"}});}</script>\n",
              "                <script type=\"text/javascript\">window.PlotlyConfig = {MathJaxConfig: 'local'};</script>\n",
              "        <script src=\"https://cdn.plot.ly/plotly-latest.min.js\"></script>    \n",
              "            <div id=\"f51426d9-04e7-40e6-ab07-13af2964f1c0\" class=\"plotly-graph-div\" style=\"height:525px; width:100%;\"></div>\n",
              "            <script type=\"text/javascript\">\n",
              "                \n",
              "                    window.PLOTLYENV=window.PLOTLYENV || {};\n",
              "                    \n",
              "                if (document.getElementById(\"f51426d9-04e7-40e6-ab07-13af2964f1c0\")) {\n",
              "                    Plotly.newPlot(\n",
              "                        'f51426d9-04e7-40e6-ab07-13af2964f1c0',\n",
              "                        [{\"hoverlabel\": {\"namelength\": 0}, \"hovertemplate\": \"volatile_acidity=%{x}<br>fixed_acidity=%{y}\", \"legendgroup\": \"\", \"marker\": {\"color\": \"#636efa\", \"symbol\": \"circle\"}, \"mode\": \"markers\", \"name\": \"\", \"showlegend\": false, \"type\": \"scattergl\", \"x\": [0.7, 0.88, 0.76, 0.28, 0.7, 0.66, 0.6, 0.65, 0.58, 0.5, 0.58, 0.5, 0.615, 0.61, 0.62, 0.62, 0.28, 0.56, 0.59, 0.32, 0.22, 0.39, 0.43, 0.49, 0.4, 0.39, 0.41, 0.43, 0.71, 0.645, 0.675, 0.685, 0.655, 0.605, 0.32, 0.645, 0.6, 0.38, 1.13, 0.45, 0.45, 0.61, 0.49, 0.66, 0.67, 0.52, 0.935, 0.29, 0.4, 0.31, 0.66, 0.52, 0.5, 0.38, 0.51, 0.62, 0.42, 0.63, 0.59, 0.39, 0.4, 0.69, 0.52, 0.735, 0.725, 0.725, 0.52, 0.705, 0.32, 0.705, 0.63, 0.67, 0.69, 0.675, 0.32, 0.41, 0.41, 0.785, 0.75, 0.625, 0.45, 0.43, 0.5, 0.67, 0.3, 0.55, 0.49, 0.49, 0.39, 0.62, 0.52, 0.49, 0.49, 0.49, 1.02, 0.6, 0.775, 0.5, 0.9, 0.545, 0.61, 0.5, 0.545, 0.575, 0.49, 0.575, 0.41, 0.63, 0.33, 0.785, 0.56, 0.62, 0.6, 0.31, 0.56, 0.4, 0.54, 0.56, 0.55, 0.69, 1.07, 0.55, 0.695, 0.71, 0.5, 0.62, 1.33, 1.33, 0.59, 0.38, 0.745, 0.5, 0.5, 0.5, 1.04, 0.745, 0.715, 0.415, 0.56, 0.56, 0.745, 0.715, 0.34, 0.39, 0.34, 0.67, 0.68, 0.49, 0.49, 0.4, 0.33, 0.52, 0.6, 0.6, 0.43, 0.43, 0.43, 0.43, 0.68, 0.6, 0.95, 0.68, 0.53, 0.6, 0.59, 0.63, 0.64, 0.55, 0.63, 0.705, 0.885, 0.42, 0.42, 0.62, 0.38, 0.5, 0.38, 0.52, 0.805, 0.61, 0.61, 0.61, 0.73, 0.61, 0.62, 0.31, 0.39, 0.705, 0.5, 0.49, 0.5, 0.37, 0.63, 0.55, 0.55, 0.59, 0.58, 0.3, 0.835, 1.09, 0.32, 0.37, 0.5, 0.42, 0.43, 0.3, 0.3, 0.57, 0.44, 0.3, 0.53, 0.725, 0.44, 0.57, 0.735, 0.49, 0.625, 0.725, 0.49, 0.53, 0.34, 0.53, 0.61, 0.645, 0.635, 0.43, 0.59, 0.82, 0.43, 0.52, 0.48, 0.38, 0.37, 0.52, 1.0, 0.63, 0.63, 0.645, 0.63, 1.0, 0.635, 0.38, 0.58, 0.21, 0.21, 0.66, 0.68, 0.6, 0.53, 0.66, 0.32, 0.6, 0.35, 0.775, 0.6, 0.57, 0.34, 0.695, 0.41, 0.31, 0.33, 0.975, 0.52, 0.37, 0.56, 0.26, 0.87, 0.35, 0.54, 0.18, 0.545, 0.18, 0.37, 0.715, 0.65, 0.545, 0.54, 0.18, 0.32, 0.4, 0.26, 0.27, 0.52, 0.4, 0.59, 0.59, 0.45, 0.4, 0.52, 0.42, 0.52, 0.2, 0.55, 0.36, 0.34, 0.5, 0.83, 0.63, 0.65, 0.67, 0.53, 0.18, 0.705, 0.67, 0.65, 0.53, 0.62, 0.41, 0.43, 0.29, 0.53, 0.53, 0.46, 0.47, 0.36, 0.35, 0.56, 0.77, 0.66, 0.77, 0.66, 0.61, 0.62, 0.59, 0.49, 0.49, 0.53, 0.44, 0.27, 0.46, 0.36, 0.36, 0.58, 0.56, 0.65, 0.695, 0.43, 0.43, 0.49, 0.28, 0.34, 0.42, 0.39, 0.39, 0.57, 0.685, 0.815, 0.49, 0.56, 0.785, 0.67, 0.795, 0.665, 0.53, 0.21, 0.75, 0.41, 0.42, 0.43, 0.38, 0.7, 0.45, 0.58, 0.46, 0.615, 0.42, 0.615, 0.575, 0.34, 0.27, 0.765, 0.24, 0.28, 0.55, 0.41, 0.54, 0.45, 0.27, 0.625, 0.42, 0.26, 0.415, 0.26, 0.26, 0.51, 0.63, 0.54, 0.66, 0.46, 0.38, 0.85, 0.415, 0.37, 0.665, 0.6, 0.37, 0.735, 0.59, 0.59, 0.765, 0.735, 0.26, 0.48, 0.6, 0.69, 0.31, 0.44, 0.39, 0.34, 0.46, 0.43, 0.45, 0.735, 0.4, 0.52, 0.725, 0.48, 0.58, 0.38, 0.77, 0.56, 0.84, 0.96, 0.24, 0.96, 0.84, 0.67, 0.78, 0.52, 0.84, 0.24, 0.55, 0.37, 0.39, 0.41, 0.39, 0.67, 0.45, 0.41, 0.62, 0.31, 0.4, 0.685, 0.44, 0.57, 0.735, 0.38, 0.48, 0.53, 0.39, 0.39, 0.37, 0.56, 0.33, 0.23, 0.62, 0.59, 0.63, 0.33, 0.58, 0.43, 0.615, 0.26, 0.66, 0.315, 0.29, 0.5, 0.46, 0.36, 0.82, 0.32, 0.54, 0.37, 0.35, 0.28, 0.68, 0.27, 0.24, 0.68, 0.685, 0.28, 0.3, 0.36, 0.36, 0.44, 0.67, 0.67, 0.645, 0.32, 0.39, 0.775, 0.41, 0.4, 0.69, 0.39, 0.35, 0.52, 0.34, 0.35, 0.69, 0.52, 0.44, 0.44, 0.26, 0.24, 0.49, 0.24, 0.67, 0.59, 0.29, 0.42, 0.59, 0.4, 0.51, 0.51, 0.655, 0.6, 0.61, 0.21, 0.365, 0.25, 0.41, 0.39, 0.4, 0.43, 0.64, 0.365, 0.38, 0.42, 0.63, 0.22, 0.38, 0.38, 0.27, 0.48, 0.22, 0.63, 0.825, 0.35, 0.5, 0.59, 0.46, 0.715, 0.66, 0.31, 0.47, 0.55, 0.31, 0.35, 0.53, 0.51, 0.43, 0.46, 1.04, 0.645, 0.645, 0.53, 0.645, 0.53, 0.47, 0.6, 0.44, 0.54, 0.29, 0.47, 0.6, 0.7, 0.7, 0.5, 0.36, 0.35, 0.36, 0.24, 0.59, 0.34, 0.27, 0.5, 0.44, 0.47, 0.31, 0.5, 0.5, 0.49, 0.28, 0.33, 0.51, 0.31, 0.73, 0.42, 0.29, 0.45, 0.39, 0.45, 0.49, 0.72, 0.595, 0.4, 0.58, 0.585, 0.59, 0.915, 0.46, 0.835, 0.46, 0.58, 0.6, 0.41, 0.48, 0.65, 0.36, 0.24, 0.38, 0.64, 0.39, 0.755, 0.6, 0.6, 0.31, 0.46, 0.37, 0.54, 0.56, 0.58, 0.51, 0.69, 0.69, 0.6, 0.6, 0.54, 0.685, 0.54, 0.28, 0.41, 0.935, 0.35, 0.84, 0.88, 0.885, 0.915, 0.29, 0.54, 0.59, 0.54, 0.59, 0.54, 0.64, 0.67, 0.845, 0.48, 0.42, 0.43, 0.88, 0.36, 0.33, 0.47, 0.55, 0.43, 0.5, 0.52, 0.84, 0.52, 0.42, 0.57, 0.28, 0.4, 0.59, 0.49, 0.34, 0.73, 0.34, 0.4, 0.73, 1.24, 0.73, 0.4, 0.41, 0.4, 0.8, 0.78, 0.26, 0.43, 0.45, 0.46, 0.78, 0.98, 0.78, 0.65, 0.64, 0.66, 0.38, 1.185, 0.92, 0.49, 0.48, 0.47, 0.47, 0.65, 0.65, 0.615, 0.38, 1.02, 0.65, 0.64, 0.38, 0.765, 1.035, 0.78, 0.49, 0.545, 0.31, 1.025, 0.565, 0.69, 0.43, 0.74, 0.49, 0.43, 0.46, 0.56, 0.66, 0.56, 0.48, 0.42, 0.31, 1.115, 0.66, 0.72, 0.57, 0.57, 0.865, 0.55, 0.875, 0.835, 0.45, 0.56, 0.965, 0.965, 0.59, 0.46, 0.69, 0.76, 0.53, 0.615, 0.41, 0.39, 0.51, 0.34, 0.33, 0.5, 0.51, 0.65, 0.65, 0.54, 0.65, 0.48, 0.91, 0.98, 0.87, 0.87, 0.42, 0.58, 0.655, 0.7, 0.655, 0.68, 0.67, 0.59, 0.6, 0.59, 0.72, 0.59, 0.685, 0.57, 0.4, 0.4, 1.0, 0.765, 0.635, 0.43, 0.52, 0.57, 0.46, 0.82, 0.46, 0.59, 0.35, 0.35, 0.56, 0.56, 0.63, 0.37, 0.64, 0.61, 0.6, 0.27, 0.89, 0.46, 0.37, 0.5, 0.5, 0.61, 0.55, 0.585, 0.56, 0.52, 0.28, 0.25, 0.28, 0.53, 0.48, 0.49, 0.5, 0.45, 0.39, 0.41, 0.45, 0.51, 0.29, 0.715, 0.66, 0.685, 0.42, 0.54, 0.54, 0.48, 0.46, 0.27, 0.46, 0.57, 0.61, 0.685, 0.61, 0.44, 0.47, 0.685, 0.665, 0.28, 0.28, 0.31, 0.5, 0.42, 0.66, 0.5, 0.685, 0.25, 0.64, 0.64, 0.68, 0.64, 0.63, 0.43, 0.43, 0.42, 0.36, 0.36, 0.735, 0.36, 0.26, 0.28, 0.56, 0.62, 1.01, 0.42, 0.62, 0.62, 0.635, 0.49, 0.51, 0.56, 0.63, 0.715, 0.56, 0.35, 0.21, 0.38, 0.31, 0.47, 0.715, 0.61, 0.6, 0.56, 0.715, 0.31, 0.6, 0.61, 0.75, 0.8, 0.52, 0.57, 0.9, 0.34, 0.66, 0.45, 0.66, 0.63, 0.59, 0.31, 0.59, 0.31, 1.02, 0.31, 0.635, 0.635, 0.59, 0.59, 0.58, 0.54, 0.56, 0.52, 0.305, 0.38, 0.28, 0.46, 0.395, 0.305, 0.315, 0.715, 0.41, 0.36, 0.62, 0.41, 0.36, 0.62, 0.41, 0.47, 0.22, 0.24, 0.67, 0.47, 0.33, 0.61, 0.61, 0.4, 0.61, 0.61, 0.3, 0.3, 0.63, 0.38, 0.46, 0.33, 0.27, 0.43, 0.5, 0.3, 0.44, 0.44, 0.28, 0.12, 0.12, 0.12, 0.28, 0.31, 0.34, 0.43, 0.21, 0.36, 0.37, 0.57, 0.59, 0.47, 0.56, 0.57, 0.27, 0.47, 0.34, 0.38, 0.66, 0.4, 0.56, 0.26, 0.26, 0.38, 0.34, 0.33, 0.41, 0.41, 0.59, 0.4, 0.45, 0.5, 0.86, 0.52, 0.5, 0.45, 0.58, 0.34, 0.36, 0.39, 0.295, 0.39, 0.34, 0.4, 0.34, 0.35, 0.6, 0.66, 0.66, 0.84, 0.69, 0.43, 0.35, 0.29, 0.36, 0.43, 0.36, 0.29, 0.3, 0.35, 0.5, 0.28, 0.32, 1.005, 0.71, 0.58, 0.39, 0.38, 0.18, 0.18, 0.5, 0.36, 0.36, 0.51, 0.32, 0.58, 0.83, 0.31, 0.795, 0.34, 0.58, 0.59, 0.55, 0.82, 0.57, 0.745, 0.37, 0.31, 0.91, 0.41, 0.5, 0.965, 0.49, 0.5, 0.39, 0.39, 0.44, 0.78, 0.43, 0.49, 0.5, 0.43, 0.46, 0.605, 0.33, 0.64, 0.64, 0.48, 0.42, 0.53, 0.48, 0.23, 0.4, 0.38, 0.29, 0.74, 0.61, 0.52, 0.31, 0.31, 0.62, 0.33, 0.77, 0.35, 0.62, 0.77, 0.25, 0.32, 0.37, 0.37, 0.3, 0.27, 0.3, 0.38, 0.42, 0.38, 0.48, 0.34, 0.19, 0.41, 0.41, 0.26, 0.34, 0.54, 0.31, 0.725, 0.4, 0.725, 0.52, 0.31, 0.52, 0.34, 0.49, 0.48, 0.49, 0.48, 0.57, 0.23, 0.3, 0.78, 0.47, 0.53, 0.42, 0.33, 0.24, 0.4, 0.69, 0.69, 0.69, 0.39, 0.66, 0.54, 0.5, 0.47, 0.4, 0.58, 0.24, 0.29, 0.76, 0.43, 0.43, 0.6, 0.19, 0.36, 0.48, 0.28, 0.25, 0.52, 0.52, 0.41, 0.51, 0.4, 0.38, 0.45, 0.22, 0.32, 0.2, 0.5, 0.41, 0.39, 0.35, 0.33, 0.58, 0.6, 0.42, 0.58, 0.6, 0.18, 0.51, 0.41, 0.41, 0.36, 0.45, 0.32, 0.785, 0.785, 0.44, 0.54, 0.33, 0.34, 0.5, 0.36, 0.59, 0.42, 0.36, 0.36, 0.61, 0.88, 0.66, 0.915, 0.35, 0.35, 0.39, 0.4, 0.66, 0.64, 0.43, 0.8, 0.43, 0.64, 0.955, 0.4, 0.885, 0.25, 0.885, 0.745, 0.43, 0.58, 0.57, 0.26, 0.58, 0.57, 0.34, 0.42, 0.74, 0.36, 0.36, 0.36, 0.72, 0.36, 0.39, 0.65, 0.44, 0.65, 0.38, 0.33, 0.27, 0.57, 0.34, 0.4, 0.39, 0.32, 0.32, 0.53, 0.36, 0.39, 0.46, 0.58, 0.58, 0.42, 0.43, 0.18, 0.815, 0.43, 0.23, 0.75, 0.33, 0.55, 0.75, 0.73, 0.67, 0.61, 0.37, 0.4, 0.56, 0.29, 0.55, 0.74, 0.55, 0.41, 0.6, 0.6, 0.58, 0.72, 0.66, 0.7, 0.64, 0.59, 0.58, 0.64, 0.64, 0.635, 1.02, 0.45, 0.78, 0.37, 0.57, 0.57, 0.43, 0.41, 0.49, 0.38, 0.44, 0.46, 0.58, 0.58, 0.715, 0.4, 0.69, 0.715, 0.3, 0.46, 0.46, 0.765, 0.63, 0.42, 0.37, 0.16, 0.6, 0.6, 0.6, 0.74, 0.635, 0.395, 0.755, 0.635, 0.63, 0.63, 0.53, 0.6, 1.58, 0.645, 0.86, 0.37, 0.28, 0.79, 0.61, 0.69, 0.68, 0.69, 0.62, 0.61, 0.51, 1.18, 0.36, 0.36, 0.63, 0.74, 0.44, 0.63, 0.76, 0.66, 0.74, 0.34, 0.36, 0.46, 0.46, 0.46, 0.46, 0.52, 0.6, 0.6, 0.87, 0.39, 0.775, 0.835, 0.58, 0.5, 0.5, 0.5, 0.51, 0.51, 0.51, 0.54, 0.51, 0.42, 0.44, 0.59, 0.655, 0.655, 0.57, 0.6, 0.62, 0.645, 0.645, 0.58, 0.32, 0.34, 0.43, 0.64, 0.475, 0.54, 0.85, 0.475, 0.83, 0.605, 0.5, 0.74, 0.54, 0.77, 0.61, 0.78, 0.58, 0.78, 0.75, 0.815, 0.56, 0.885, 0.49, 0.45, 0.57, 0.57, 0.83, 0.6, 0.6, 0.755, 0.81, 0.64, 0.64, 0.64, 0.48, 0.49, 0.64, 0.62, 0.52, 0.57, 0.685, 0.675, 0.59, 0.6, 0.67, 0.69, 0.69, 0.3, 0.33, 0.5, 0.28, 0.24, 0.51, 0.29, 0.51, 0.96, 0.47, 0.24, 0.57, 0.32, 0.58, 0.32, 0.34, 0.53, 0.64, 0.53, 0.4, 0.54, 0.53, 0.26, 0.26, 0.23, 0.41, 0.64, 0.18, 0.41, 0.43, 0.44, 0.4, 0.54, 0.54, 0.38, 0.915, 0.59, 0.67, 0.37, 0.785, 0.63, 0.58, 0.67, 0.785, 0.63, 0.67, 0.58, 0.38, 0.37, 0.32, 0.58, 0.49, 0.45, 0.9, 0.54, 0.49, 0.29, 0.2, 0.42, 0.785, 0.64, 0.63, 0.59, 0.59, 0.48, 1.04, 0.48, 0.98, 0.69, 0.7, 0.35, 0.6, 0.5, 0.47, 0.5, 0.47, 0.875, 0.28, 0.62, 0.28, 0.58, 0.33, 0.91, 0.655, 0.68, 0.64, 0.54, 0.57, 0.22, 0.54, 0.65, 0.54, 0.31, 0.43, 0.54, 0.74, 0.895, 0.74, 0.725, 0.82, 0.585, 0.44, 0.38, 0.76, 0.81, 0.38, 0.27, 0.18, 0.36, 0.69, 0.79, 0.56, 0.84, 0.84, 0.32, 0.53, 0.47, 0.7, 0.53, 0.48, 0.32, 0.48, 0.42, 0.48, 0.47, 0.53, 0.29, 0.69, 0.44, 0.705, 0.53, 0.39, 0.56, 0.55, 0.53, 0.58, 0.64, 0.39, 0.52, 0.25, 0.855, 0.44, 0.37, 0.63, 0.57, 0.6, 0.4, 0.36, 0.68, 0.67, 0.68, 0.735, 0.855, 0.56, 0.88, 0.855, 0.63, 0.6, 0.6, 0.6, 0.695, 0.695, 0.695, 0.67, 0.16, 0.695, 0.56, 0.51, 0.36, 0.38, 0.69, 0.58, 0.31, 0.52, 0.3, 0.7, 0.67, 0.56, 0.35, 0.56, 0.715, 0.46, 0.32, 0.39, 0.31, 0.61, 0.66, 0.725, 0.55, 0.74, 0.51, 0.62, 0.6, 0.55, 0.51, 0.645, 0.31], \"xaxis\": \"x\", \"y\": [7.4, 7.8, 7.8, 11.2, 7.4, 7.4, 7.9, 7.3, 7.8, 7.5, 6.7, 7.5, 5.6, 7.8, 8.9, 8.9, 8.5, 8.1, 7.4, 7.9, 8.9, 7.6, 7.9, 8.5, 6.9, 6.3, 7.6, 7.9, 7.1, 7.8, 6.7, 6.9, 8.3, 6.9, 5.2, 7.8, 7.8, 8.1, 5.7, 7.3, 7.3, 8.8, 7.5, 8.1, 6.8, 4.6, 7.7, 8.7, 6.4, 5.6, 8.8, 6.6, 6.6, 8.6, 7.6, 7.7, 10.2, 7.5, 7.8, 7.3, 8.8, 7.7, 7.5, 7.0, 7.2, 7.2, 7.5, 6.6, 9.3, 8.0, 7.7, 7.7, 7.7, 8.3, 9.7, 8.8, 8.8, 6.8, 6.7, 8.3, 6.2, 7.8, 7.4, 7.3, 6.3, 6.9, 8.6, 7.7, 9.3, 7.0, 7.9, 8.6, 8.6, 7.7, 5.0, 4.7, 6.8, 7.0, 7.6, 8.1, 8.3, 7.8, 8.1, 8.1, 7.2, 8.1, 7.8, 6.2, 8.0, 8.1, 7.8, 8.4, 8.4, 10.1, 7.8, 9.4, 8.3, 7.8, 8.8, 7.0, 7.3, 8.8, 7.3, 8.0, 7.8, 9.0, 8.2, 8.1, 8.0, 6.1, 8.0, 5.6, 5.6, 6.6, 7.9, 8.4, 8.3, 7.2, 7.8, 7.8, 8.4, 8.3, 5.2, 6.3, 5.2, 8.1, 5.8, 7.6, 6.9, 8.2, 7.3, 9.2, 7.5, 7.5, 7.1, 7.1, 7.1, 7.1, 7.1, 6.8, 7.6, 7.6, 7.8, 7.4, 7.3, 7.8, 6.8, 7.3, 6.8, 7.5, 7.9, 8.0, 8.0, 7.4, 7.3, 6.9, 7.3, 7.5, 7.0, 8.8, 8.8, 8.9, 7.2, 6.8, 6.7, 8.9, 7.4, 7.7, 7.9, 7.9, 8.2, 6.4, 6.8, 7.6, 7.6, 7.8, 7.3, 11.5, 5.4, 6.9, 9.6, 8.8, 6.8, 7.0, 7.0, 12.8, 12.8, 7.8, 7.8, 11.0, 9.7, 8.0, 11.6, 8.2, 7.8, 7.0, 8.7, 8.1, 7.5, 7.8, 7.8, 7.4, 6.8, 8.6, 8.4, 7.7, 8.9, 9.0, 7.7, 6.9, 5.2, 8.0, 8.5, 6.9, 8.2, 7.2, 7.2, 7.2, 7.2, 8.2, 8.9, 12.0, 7.7, 15.0, 15.0, 7.3, 7.1, 8.2, 7.7, 7.3, 10.8, 7.1, 11.1, 7.7, 7.1, 8.0, 9.4, 6.6, 7.7, 10.0, 7.9, 7.0, 8.0, 7.9, 12.5, 11.8, 8.1, 7.9, 6.9, 11.5, 7.9, 11.5, 10.9, 8.4, 7.5, 7.9, 6.9, 11.5, 10.3, 8.9, 11.4, 7.7, 7.6, 8.9, 9.9, 9.9, 12.0, 7.5, 8.7, 11.6, 8.7, 11.0, 10.4, 6.9, 13.3, 10.8, 10.6, 7.1, 7.2, 6.9, 7.5, 11.1, 8.3, 7.4, 8.4, 10.3, 7.6, 10.3, 10.3, 7.4, 10.3, 7.9, 9.0, 8.6, 7.4, 7.1, 9.6, 9.6, 9.8, 9.6, 9.8, 9.3, 7.8, 10.3, 10.0, 10.0, 11.6, 10.3, 13.4, 10.7, 10.2, 10.2, 8.0, 8.4, 7.9, 11.9, 8.9, 7.8, 12.4, 12.5, 12.2, 10.6, 10.9, 10.9, 11.9, 7.0, 6.6, 13.8, 9.6, 9.1, 10.7, 9.1, 7.7, 13.5, 6.1, 6.7, 11.5, 10.5, 11.9, 12.6, 8.2, 8.6, 11.9, 12.5, 12.8, 10.0, 12.8, 10.4, 10.3, 9.4, 6.9, 7.9, 9.1, 7.4, 14.0, 11.5, 11.5, 9.4, 11.4, 8.3, 8.3, 13.7, 8.3, 8.3, 7.7, 7.4, 7.8, 8.3, 7.8, 9.6, 5.6, 13.7, 9.5, 8.4, 12.7, 12.0, 6.6, 11.5, 11.5, 8.7, 6.6, 7.7, 12.2, 11.4, 7.7, 8.7, 9.8, 12.0, 10.4, 12.5, 9.0, 9.1, 7.1, 9.9, 8.8, 8.6, 10.6, 7.0, 11.9, 6.8, 9.5, 6.6, 7.7, 10.5, 7.7, 6.6, 6.4, 9.5, 9.1, 12.8, 10.5, 7.8, 11.9, 12.3, 10.4, 12.3, 8.0, 11.1, 10.4, 7.0, 12.6, 11.9, 15.6, 10.0, 5.3, 9.5, 12.5, 9.3, 8.6, 11.9, 11.9, 8.4, 6.8, 10.4, 7.0, 11.3, 8.9, 9.2, 10.4, 11.6, 9.2, 8.3, 11.0, 8.1, 11.5, 10.0, 10.3, 8.8, 11.4, 8.7, 13.0, 9.6, 12.5, 9.9, 10.5, 9.6, 9.3, 10.4, 9.6, 9.4, 10.6, 9.4, 10.6, 10.6, 10.6, 10.2, 10.2, 10.2, 11.6, 9.3, 9.3, 9.2, 8.9, 8.7, 6.5, 10.7, 7.8, 7.2, 10.7, 8.7, 7.8, 10.4, 10.4, 10.5, 10.5, 10.2, 10.4, 11.2, 10.0, 13.3, 12.4, 10.0, 10.7, 10.5, 10.5, 8.5, 12.5, 10.4, 10.9, 7.3, 9.8, 7.6, 8.2, 9.3, 9.2, 10.4, 7.3, 7.0, 8.2, 9.9, 9.1, 11.9, 11.9, 10.3, 10.0, 9.1, 9.9, 8.1, 12.9, 11.2, 9.2, 9.5, 9.3, 11.2, 14.3, 9.1, 7.5, 10.6, 12.4, 9.0, 6.8, 9.4, 9.5, 5.0, 15.5, 15.5, 10.9, 15.6, 10.9, 13.0, 12.7, 9.0, 9.0, 7.6, 13.0, 12.7, 8.7, 8.7, 9.8, 6.2, 11.5, 6.2, 10.2, 10.5, 10.6, 12.3, 9.9, 8.8, 8.8, 10.6, 12.3, 12.3, 11.7, 12.0, 11.8, 7.6, 11.1, 7.3, 5.0, 10.2, 9.0, 6.6, 9.0, 9.9, 7.9, 8.9, 12.4, 11.9, 8.5, 12.7, 8.2, 13.2, 7.7, 13.2, 8.3, 8.3, 9.4, 8.8, 10.1, 6.3, 8.8, 13.2, 7.5, 8.2, 9.2, 9.6, 9.6, 11.5, 11.4, 11.3, 8.3, 8.2, 10.0, 7.9, 6.8, 6.8, 8.8, 8.8, 8.7, 7.6, 8.7, 10.4, 7.6, 10.1, 7.9, 8.7, 9.6, 9.5, 7.7, 8.9, 9.9, 9.5, 9.9, 9.5, 9.9, 7.8, 7.3, 8.3, 8.7, 6.7, 10.7, 9.8, 15.9, 9.4, 8.6, 9.7, 10.7, 12.0, 7.2, 7.1, 7.2, 7.5, 7.2, 10.1, 12.1, 9.4, 8.3, 11.3, 10.0, 11.3, 6.9, 8.2, 9.8, 8.2, 10.8, 9.3, 10.8, 8.6, 8.3, 10.8, 13.3, 8.0, 8.5, 8.1, 9.8, 8.1, 7.1, 9.1, 7.7, 8.1, 7.4, 9.2, 8.6, 9.0, 9.0, 5.1, 7.0, 7.0, 9.4, 11.8, 10.6, 7.0, 7.0, 7.5, 9.1, 8.4, 7.0, 7.4, 7.8, 9.7, 10.6, 8.9, 8.7, 8.0, 9.9, 7.2, 8.0, 7.6, 8.4, 7.1, 8.4, 8.9, 7.6, 7.1, 7.5, 9.0, 8.1, 6.4, 6.4, 6.4, 9.5, 8.9, 7.3, 7.0, 7.7, 7.7, 7.7, 8.2, 9.0, 9.0, 8.3, 9.2, 6.5, 11.6, 11.1, 7.3, 8.2, 8.6, 7.2, 7.3, 8.3, 8.3, 7.6, 8.3, 7.8, 7.8, 6.3, 8.1, 8.1, 8.8, 9.0, 9.3, 8.8, 9.3, 9.1, 9.2, 8.8, 7.5, 7.1, 7.9, 7.1, 9.4, 9.5, 7.9, 7.9, 7.2, 6.9, 6.9, 8.3, 7.1, 7.0, 6.5, 9.0, 6.5, 7.1, 9.9, 9.9, 10.0, 10.0, 8.6, 7.4, 8.8, 7.1, 7.7, 10.1, 10.8, 8.7, 9.3, 9.4, 9.4, 7.2, 8.6, 5.1, 7.7, 8.4, 8.2, 8.4, 8.2, 7.4, 7.6, 7.3, 12.9, 10.8, 6.9, 12.6, 10.8, 9.8, 10.8, 7.1, 9.1, 7.0, 4.9, 6.7, 6.7, 7.1, 7.1, 7.5, 7.1, 7.8, 5.9, 7.5, 5.9, 10.4, 11.6, 8.8, 7.6, 6.7, 6.7, 10.1, 6.0, 11.1, 6.6, 10.6, 7.1, 9.9, 6.4, 6.4, 7.4, 6.4, 6.4, 9.3, 9.3, 8.0, 9.3, 9.3, 7.6, 9.3, 8.2, 11.7, 6.8, 7.2, 5.8, 7.5, 7.2, 7.2, 7.2, 6.8, 6.9, 6.8, 7.6, 7.7, 6.9, 7.3, 9.1, 10.4, 8.8, 7.1, 7.7, 8.8, 7.2, 9.2, 7.6, 8.4, 7.2, 8.8, 8.9, 9.0, 10.7, 6.8, 10.7, 7.2, 7.2, 10.1, 7.2, 7.2, 7.1, 8.3, 7.1, 8.3, 8.3, 8.9, 7.4, 7.4, 6.8, 6.8, 9.2, 7.2, 6.1, 7.4, 7.3, 9.3, 9.1, 10.0, 9.4, 7.3, 8.6, 5.3, 6.8, 8.4, 8.4, 9.6, 8.4, 8.4, 6.8, 8.6, 8.6, 9.4, 8.4, 8.6, 8.7, 6.6, 7.4, 7.6, 7.4, 6.6, 8.8, 8.8, 12.0, 7.2, 6.2, 9.6, 9.9, 10.1, 9.8, 8.3, 10.2, 10.2, 8.3, 8.9, 8.9, 8.9, 8.3, 8.2, 10.2, 7.6, 8.5, 9.0, 9.5, 6.4, 8.0, 8.5, 7.1, 6.6, 8.8, 8.5, 8.3, 9.0, 8.5, 9.0, 6.7, 10.4, 10.4, 10.1, 8.5, 8.8, 7.2, 7.2, 8.4, 7.0, 12.2, 9.1, 9.5, 7.3, 9.1, 12.2, 7.4, 9.8, 7.1, 7.7, 9.7, 7.7, 7.1, 6.5, 7.1, 10.0, 7.7, 5.6, 5.6, 8.9, 6.4, 7.5, 9.9, 9.1, 6.8, 8.2, 6.8, 9.1, 9.1, 8.9, 9.6, 8.9, 8.9, 7.7, 7.5, 8.0, 10.5, 8.9, 8.0, 8.0, 7.0, 11.3, 11.3, 7.0, 8.2, 7.7, 8.6, 7.9, 6.4, 7.2, 7.7, 7.1, 7.3, 8.1, 7.5, 8.9, 10.1, 7.6, 7.3, 8.7, 8.9, 7.4, 6.9, 8.9, 9.5, 6.4, 6.9, 7.6, 7.1, 9.3, 9.3, 7.1, 8.5, 5.6, 8.3, 8.2, 8.2, 8.9, 7.6, 9.9, 8.9, 11.6, 9.1, 8.0, 10.2, 8.2, 7.7, 6.6, 11.1, 11.1, 8.0, 9.3, 7.5, 7.2, 8.0, 7.5, 9.1, 9.9, 8.6, 8.6, 7.9, 10.3, 7.9, 7.2, 8.7, 7.2, 6.8, 8.5, 7.9, 11.6, 11.6, 10.0, 7.9, 7.0, 9.2, 6.6, 9.4, 6.6, 8.6, 8.0, 8.6, 8.4, 7.4, 6.1, 7.4, 8.0, 6.3, 8.2, 9.1, 8.1, 10.8, 8.3, 5.4, 7.9, 8.9, 5.0, 7.0, 7.0, 7.0, 7.1, 5.6, 7.9, 6.6, 6.3, 10.7, 6.5, 8.8, 5.8, 6.3, 10.0, 10.5, 9.1, 5.9, 7.4, 7.2, 8.5, 8.0, 10.4, 10.4, 7.5, 8.2, 7.3, 8.2, 6.9, 7.0, 7.3, 8.2, 7.8, 10.0, 7.8, 10.0, 8.2, 6.1, 8.3, 9.6, 6.6, 8.3, 8.5, 5.1, 6.7, 10.2, 10.6, 8.8, 8.5, 9.0, 9.0, 8.5, 9.9, 8.2, 6.5, 7.6, 9.2, 7.1, 9.7, 7.6, 7.6, 6.5, 6.5, 7.1, 5.6, 8.2, 8.2, 9.8, 10.2, 6.8, 6.7, 7.0, 6.6, 7.0, 6.7, 8.8, 9.1, 6.5, 7.2, 6.4, 7.0, 6.2, 7.9, 7.7, 7.7, 7.9, 7.7, 7.9, 8.6, 9.9, 7.2, 7.2, 7.2, 9.9, 7.2, 6.2, 6.8, 6.6, 6.8, 9.6, 10.2, 8.8, 7.9, 8.2, 8.2, 9.0, 10.9, 10.9, 8.1, 10.5, 12.6, 9.2, 7.5, 9.0, 5.1, 7.6, 7.7, 7.8, 7.6, 10.2, 7.1, 6.0, 7.8, 7.1, 8.1, 6.5, 7.5, 9.8, 9.0, 8.3, 5.9, 7.4, 7.4, 7.4, 6.9, 7.1, 7.1, 7.5, 7.1, 7.9, 7.8, 6.1, 7.5, 7.0, 6.8, 6.8, 8.6, 6.3, 9.8, 8.2, 8.5, 7.2, 7.2, 10.4, 6.9, 5.5, 5.0, 7.3, 5.9, 7.5, 7.8, 8.0, 8.5, 7.0, 8.0, 9.8, 7.1, 7.1, 7.9, 8.7, 7.0, 11.3, 7.1, 8.0, 7.0, 7.0, 7.6, 8.2, 5.9, 7.5, 8.2, 6.6, 6.6, 7.2, 5.7, 7.6, 5.2, 6.7, 9.1, 8.0, 7.6, 7.5, 9.7, 6.8, 9.7, 7.0, 7.5, 6.5, 8.0, 7.0, 7.0, 7.5, 5.4, 9.9, 7.5, 9.1, 9.7, 5.0, 9.1, 9.1, 6.7, 6.7, 6.7, 6.7, 6.5, 7.4, 7.4, 7.8, 8.4, 9.1, 7.2, 6.6, 6.0, 6.0, 6.0, 7.5, 7.5, 7.5, 7.6, 7.5, 11.5, 8.2, 6.1, 7.2, 7.2, 6.9, 9.0, 7.2, 7.6, 7.6, 7.2, 6.1, 6.1, 7.3, 7.4, 11.6, 9.2, 8.3, 11.6, 8.0, 7.2, 7.8, 7.3, 6.9, 8.0, 6.6, 8.7, 7.5, 8.7, 7.7, 6.8, 7.2, 8.2, 5.2, 7.2, 7.5, 7.5, 6.8, 8.0, 8.0, 7.1, 8.0, 7.4, 7.4, 6.6, 6.7, 6.0, 8.0, 7.1, 8.0, 6.4, 8.6, 8.7, 7.3, 7.0, 7.2, 7.9, 7.9, 7.6, 7.2, 8.0, 7.7, 8.2, 6.0, 8.1, 6.0, 6.6, 6.4, 8.2, 9.9, 10.0, 6.2, 10.0, 7.3, 7.8, 7.7, 7.8, 7.5, 7.0, 6.4, 8.3, 8.3, 7.7, 7.6, 7.8, 7.9, 7.4, 7.6, 5.9, 6.1, 10.2, 10.2, 10.0, 6.8, 7.0, 7.3, 7.2, 7.4, 6.9, 6.9, 7.3, 7.4, 6.9, 6.8, 6.9, 7.2, 7.2, 7.8, 6.6, 7.6, 11.7, 6.5, 6.0, 7.6, 8.4, 7.9, 6.4, 6.2, 6.8, 6.9, 6.8, 6.8, 7.3, 6.7, 7.3, 7.3, 10.0, 6.7, 7.6, 6.1, 9.9, 5.3, 9.9, 5.3, 7.1, 8.2, 5.6, 8.2, 7.2, 8.1, 6.8, 7.0, 6.8, 6.0, 5.6, 6.2, 7.1, 5.6, 6.2, 7.7, 6.4, 7.0, 7.7, 6.9, 6.6, 6.9, 7.5, 7.8, 7.3, 6.2, 7.5, 6.7, 6.8, 7.5, 7.1, 7.9, 6.4, 7.1, 6.4, 6.4, 6.9, 6.9, 6.1, 6.5, 7.4, 6.6, 6.5, 6.9, 6.1, 6.8, 6.0, 6.7, 6.8, 7.1, 7.9, 7.1, 6.6, 6.1, 7.2, 8.0, 6.6, 7.0, 6.1, 5.4, 6.2, 7.2, 6.2, 7.4, 6.7, 11.1, 8.4, 6.5, 7.0, 6.3, 11.2, 7.4, 7.1, 7.1, 6.3, 7.3, 6.6, 7.0, 6.6, 6.6, 6.9, 7.8, 7.8, 7.8, 7.2, 7.2, 7.2, 6.7, 6.7, 7.2, 7.0, 6.2, 6.4, 6.4, 7.3, 6.0, 5.6, 7.5, 8.0, 6.2, 6.8, 6.2, 7.4, 6.2, 6.1, 6.2, 6.7, 7.2, 7.5, 5.8, 7.2, 6.6, 6.3, 5.4, 6.3, 6.8, 6.2, 5.9, 6.3, 5.9, 6.0], \"yaxis\": \"y\"}],\n",
              "                        {\"legend\": {\"tracegroupgap\": 0}, \"margin\": {\"t\": 60}, \"template\": {\"data\": {\"bar\": [{\"error_x\": {\"color\": \"#2a3f5f\"}, \"error_y\": {\"color\": \"#2a3f5f\"}, \"marker\": {\"line\": {\"color\": \"#E5ECF6\", \"width\": 0.5}}, \"type\": \"bar\"}], \"barpolar\": [{\"marker\": {\"line\": {\"color\": \"#E5ECF6\", \"width\": 0.5}}, \"type\": \"barpolar\"}], \"carpet\": [{\"aaxis\": {\"endlinecolor\": \"#2a3f5f\", \"gridcolor\": \"white\", \"linecolor\": \"white\", \"minorgridcolor\": \"white\", \"startlinecolor\": \"#2a3f5f\"}, \"baxis\": {\"endlinecolor\": \"#2a3f5f\", \"gridcolor\": \"white\", \"linecolor\": \"white\", \"minorgridcolor\": \"white\", \"startlinecolor\": \"#2a3f5f\"}, \"type\": \"carpet\"}], \"choropleth\": [{\"colorbar\": {\"outlinewidth\": 0, \"ticks\": \"\"}, \"type\": \"choropleth\"}], \"contour\": [{\"colorbar\": {\"outlinewidth\": 0, \"ticks\": \"\"}, \"colorscale\": [[0.0, \"#0d0887\"], [0.1111111111111111, \"#46039f\"], [0.2222222222222222, \"#7201a8\"], [0.3333333333333333, \"#9c179e\"], [0.4444444444444444, \"#bd3786\"], [0.5555555555555556, \"#d8576b\"], [0.6666666666666666, \"#ed7953\"], [0.7777777777777778, \"#fb9f3a\"], [0.8888888888888888, \"#fdca26\"], [1.0, \"#f0f921\"]], \"type\": \"contour\"}], \"contourcarpet\": [{\"colorbar\": {\"outlinewidth\": 0, \"ticks\": \"\"}, \"type\": \"contourcarpet\"}], \"heatmap\": [{\"colorbar\": {\"outlinewidth\": 0, \"ticks\": \"\"}, \"colorscale\": [[0.0, \"#0d0887\"], [0.1111111111111111, \"#46039f\"], [0.2222222222222222, \"#7201a8\"], [0.3333333333333333, \"#9c179e\"], [0.4444444444444444, \"#bd3786\"], [0.5555555555555556, \"#d8576b\"], [0.6666666666666666, \"#ed7953\"], [0.7777777777777778, \"#fb9f3a\"], [0.8888888888888888, \"#fdca26\"], [1.0, \"#f0f921\"]], \"type\": \"heatmap\"}], \"heatmapgl\": [{\"colorbar\": {\"outlinewidth\": 0, \"ticks\": \"\"}, \"colorscale\": [[0.0, \"#0d0887\"], [0.1111111111111111, \"#46039f\"], [0.2222222222222222, \"#7201a8\"], [0.3333333333333333, \"#9c179e\"], [0.4444444444444444, \"#bd3786\"], [0.5555555555555556, \"#d8576b\"], [0.6666666666666666, \"#ed7953\"], [0.7777777777777778, \"#fb9f3a\"], [0.8888888888888888, \"#fdca26\"], [1.0, \"#f0f921\"]], \"type\": \"heatmapgl\"}], \"histogram\": [{\"marker\": {\"colorbar\": {\"outlinewidth\": 0, \"ticks\": \"\"}}, \"type\": \"histogram\"}], \"histogram2d\": [{\"colorbar\": {\"outlinewidth\": 0, \"ticks\": \"\"}, \"colorscale\": [[0.0, \"#0d0887\"], [0.1111111111111111, \"#46039f\"], [0.2222222222222222, \"#7201a8\"], [0.3333333333333333, \"#9c179e\"], [0.4444444444444444, \"#bd3786\"], [0.5555555555555556, \"#d8576b\"], [0.6666666666666666, \"#ed7953\"], [0.7777777777777778, \"#fb9f3a\"], [0.8888888888888888, \"#fdca26\"], [1.0, \"#f0f921\"]], \"type\": \"histogram2d\"}], \"histogram2dcontour\": [{\"colorbar\": {\"outlinewidth\": 0, \"ticks\": \"\"}, \"colorscale\": [[0.0, \"#0d0887\"], [0.1111111111111111, \"#46039f\"], [0.2222222222222222, \"#7201a8\"], [0.3333333333333333, \"#9c179e\"], [0.4444444444444444, \"#bd3786\"], [0.5555555555555556, \"#d8576b\"], [0.6666666666666666, \"#ed7953\"], [0.7777777777777778, \"#fb9f3a\"], [0.8888888888888888, \"#fdca26\"], [1.0, \"#f0f921\"]], \"type\": \"histogram2dcontour\"}], \"mesh3d\": [{\"colorbar\": {\"outlinewidth\": 0, \"ticks\": \"\"}, \"type\": \"mesh3d\"}], \"parcoords\": [{\"line\": {\"colorbar\": {\"outlinewidth\": 0, \"ticks\": \"\"}}, \"type\": \"parcoords\"}], \"pie\": [{\"automargin\": true, \"type\": \"pie\"}], \"scatter\": [{\"marker\": {\"colorbar\": {\"outlinewidth\": 0, \"ticks\": \"\"}}, \"type\": \"scatter\"}], \"scatter3d\": [{\"line\": {\"colorbar\": {\"outlinewidth\": 0, \"ticks\": \"\"}}, \"marker\": {\"colorbar\": {\"outlinewidth\": 0, \"ticks\": \"\"}}, \"type\": \"scatter3d\"}], \"scattercarpet\": [{\"marker\": {\"colorbar\": {\"outlinewidth\": 0, \"ticks\": \"\"}}, \"type\": \"scattercarpet\"}], \"scattergeo\": [{\"marker\": {\"colorbar\": {\"outlinewidth\": 0, \"ticks\": \"\"}}, \"type\": \"scattergeo\"}], \"scattergl\": [{\"marker\": {\"colorbar\": {\"outlinewidth\": 0, \"ticks\": \"\"}}, \"type\": \"scattergl\"}], \"scattermapbox\": [{\"marker\": {\"colorbar\": {\"outlinewidth\": 0, \"ticks\": \"\"}}, \"type\": \"scattermapbox\"}], \"scatterpolar\": [{\"marker\": {\"colorbar\": {\"outlinewidth\": 0, \"ticks\": \"\"}}, \"type\": \"scatterpolar\"}], \"scatterpolargl\": [{\"marker\": {\"colorbar\": {\"outlinewidth\": 0, \"ticks\": \"\"}}, \"type\": \"scatterpolargl\"}], \"scatterternary\": [{\"marker\": {\"colorbar\": {\"outlinewidth\": 0, \"ticks\": \"\"}}, \"type\": \"scatterternary\"}], \"surface\": [{\"colorbar\": {\"outlinewidth\": 0, \"ticks\": \"\"}, \"colorscale\": [[0.0, \"#0d0887\"], [0.1111111111111111, \"#46039f\"], [0.2222222222222222, \"#7201a8\"], [0.3333333333333333, \"#9c179e\"], [0.4444444444444444, \"#bd3786\"], [0.5555555555555556, \"#d8576b\"], [0.6666666666666666, \"#ed7953\"], [0.7777777777777778, \"#fb9f3a\"], [0.8888888888888888, \"#fdca26\"], [1.0, \"#f0f921\"]], \"type\": \"surface\"}], \"table\": [{\"cells\": {\"fill\": {\"color\": \"#EBF0F8\"}, \"line\": {\"color\": \"white\"}}, \"header\": {\"fill\": {\"color\": \"#C8D4E3\"}, \"line\": {\"color\": \"white\"}}, \"type\": \"table\"}]}, \"layout\": {\"annotationdefaults\": {\"arrowcolor\": \"#2a3f5f\", \"arrowhead\": 0, \"arrowwidth\": 1}, \"coloraxis\": {\"colorbar\": {\"outlinewidth\": 0, \"ticks\": \"\"}}, \"colorscale\": {\"diverging\": [[0, \"#8e0152\"], [0.1, \"#c51b7d\"], [0.2, \"#de77ae\"], [0.3, \"#f1b6da\"], [0.4, \"#fde0ef\"], [0.5, \"#f7f7f7\"], [0.6, \"#e6f5d0\"], [0.7, \"#b8e186\"], [0.8, \"#7fbc41\"], [0.9, \"#4d9221\"], [1, \"#276419\"]], \"sequential\": [[0.0, \"#0d0887\"], [0.1111111111111111, \"#46039f\"], [0.2222222222222222, \"#7201a8\"], [0.3333333333333333, \"#9c179e\"], [0.4444444444444444, \"#bd3786\"], [0.5555555555555556, \"#d8576b\"], [0.6666666666666666, \"#ed7953\"], [0.7777777777777778, \"#fb9f3a\"], [0.8888888888888888, \"#fdca26\"], [1.0, \"#f0f921\"]], \"sequentialminus\": [[0.0, \"#0d0887\"], [0.1111111111111111, \"#46039f\"], [0.2222222222222222, \"#7201a8\"], [0.3333333333333333, \"#9c179e\"], [0.4444444444444444, \"#bd3786\"], [0.5555555555555556, \"#d8576b\"], [0.6666666666666666, \"#ed7953\"], [0.7777777777777778, \"#fb9f3a\"], [0.8888888888888888, \"#fdca26\"], [1.0, \"#f0f921\"]]}, \"colorway\": [\"#636efa\", \"#EF553B\", \"#00cc96\", \"#ab63fa\", \"#FFA15A\", \"#19d3f3\", \"#FF6692\", \"#B6E880\", \"#FF97FF\", \"#FECB52\"], \"font\": {\"color\": \"#2a3f5f\"}, \"geo\": {\"bgcolor\": \"white\", \"lakecolor\": \"white\", \"landcolor\": \"#E5ECF6\", \"showlakes\": true, \"showland\": true, \"subunitcolor\": \"white\"}, \"hoverlabel\": {\"align\": \"left\"}, \"hovermode\": \"closest\", \"mapbox\": {\"style\": \"light\"}, \"paper_bgcolor\": \"white\", \"plot_bgcolor\": \"#E5ECF6\", \"polar\": {\"angularaxis\": {\"gridcolor\": \"white\", \"linecolor\": \"white\", \"ticks\": \"\"}, \"bgcolor\": \"#E5ECF6\", \"radialaxis\": {\"gridcolor\": \"white\", \"linecolor\": \"white\", \"ticks\": \"\"}}, \"scene\": {\"xaxis\": {\"backgroundcolor\": \"#E5ECF6\", \"gridcolor\": \"white\", \"gridwidth\": 2, \"linecolor\": \"white\", \"showbackground\": true, \"ticks\": \"\", \"zerolinecolor\": \"white\"}, \"yaxis\": {\"backgroundcolor\": \"#E5ECF6\", \"gridcolor\": \"white\", \"gridwidth\": 2, \"linecolor\": \"white\", \"showbackground\": true, \"ticks\": \"\", \"zerolinecolor\": \"white\"}, \"zaxis\": {\"backgroundcolor\": \"#E5ECF6\", \"gridcolor\": \"white\", \"gridwidth\": 2, \"linecolor\": \"white\", \"showbackground\": true, \"ticks\": \"\", \"zerolinecolor\": \"white\"}}, \"shapedefaults\": {\"line\": {\"color\": \"#2a3f5f\"}}, \"ternary\": {\"aaxis\": {\"gridcolor\": \"white\", \"linecolor\": \"white\", \"ticks\": \"\"}, \"baxis\": {\"gridcolor\": \"white\", \"linecolor\": \"white\", \"ticks\": \"\"}, \"bgcolor\": \"#E5ECF6\", \"caxis\": {\"gridcolor\": \"white\", \"linecolor\": \"white\", \"ticks\": \"\"}}, \"title\": {\"x\": 0.05}, \"xaxis\": {\"automargin\": true, \"gridcolor\": \"white\", \"linecolor\": \"white\", \"ticks\": \"\", \"title\": {\"standoff\": 15}, \"zerolinecolor\": \"white\", \"zerolinewidth\": 2}, \"yaxis\": {\"automargin\": true, \"gridcolor\": \"white\", \"linecolor\": \"white\", \"ticks\": \"\", \"title\": {\"standoff\": 15}, \"zerolinecolor\": \"white\", \"zerolinewidth\": 2}}}, \"xaxis\": {\"anchor\": \"y\", \"domain\": [0.0, 1.0], \"title\": {\"text\": \"volatile_acidity\"}}, \"yaxis\": {\"anchor\": \"x\", \"domain\": [0.0, 1.0], \"title\": {\"text\": \"fixed_acidity\"}}},\n",
              "                        {\"responsive\": true}\n",
              "                    ).then(function(){\n",
              "                            \n",
              "var gd = document.getElementById('f51426d9-04e7-40e6-ab07-13af2964f1c0');\n",
              "var x = new MutationObserver(function (mutations, observer) {{\n",
              "        var display = window.getComputedStyle(gd).display;\n",
              "        if (!display || display === 'none') {{\n",
              "            console.log([gd, 'removed!']);\n",
              "            Plotly.purge(gd);\n",
              "            observer.disconnect();\n",
              "        }}\n",
              "}});\n",
              "\n",
              "// Listen for the removal of the full notebook cells\n",
              "var notebookContainer = gd.closest('#notebook-container');\n",
              "if (notebookContainer) {{\n",
              "    x.observe(notebookContainer, {childList: true});\n",
              "}}\n",
              "\n",
              "// Listen for the clearing of the current output cell\n",
              "var outputEl = gd.closest('.output');\n",
              "if (outputEl) {{\n",
              "    x.observe(outputEl, {childList: true});\n",
              "}}\n",
              "\n",
              "                        })\n",
              "                };\n",
              "                \n",
              "            </script>\n",
              "        </div>\n",
              "</body>\n",
              "</html>"
            ]
          },
          "metadata": {}
        }
      ]
    }
  ]
}